{
 "cells": [
  {
   "cell_type": "markdown",
   "source": [
    "---\n",
    "description: 'Make it Custom, Make it Yours'\n",
    "---\n",
    "\n",
    "# Extending Avalanche"
   ],
   "metadata": {
    "collapsed": false,
    "pycharm": {
     "name": "#%% md\n"
    }
   }
  },
  {
   "cell_type": "code",
   "execution_count": null,
   "outputs": [],
   "source": [
    "!pip install git+https://github.com/ContinualAI/avalanche.git"
   ],
   "metadata": {
    "collapsed": false,
    "pycharm": {
     "name": "#%%\n"
    }
   }
  },
  {
   "cell_type": "markdown",
   "source": [
    "\n",
    "Having learned how to use all the _Avalanche_ main features, you may end up willing to customize the framework a little to suit your eagerness of continually better functionalities \\(as a true _continual learner_ would indeed do! ⚡\\).\n",
    "\n",
    "Hence, now is the time to get your hands dirty! 🙌\n",
    "\n",
    "Take you time to explore the [Avalanche API](https://continualai.github.io/avalanche) in great detail. We made sure everything is well documented \\(even if improvable\\), but try to take a look at the code as well to resolve any uncertainties \\(of course if you have any question [don't hesitate to ask](../questions-and-issues/ask-your-question.md)\\)\n",
    "\n",
    "You can start by [cloning the repo and installing Avalanche in \"Developer Mode\"](../getting-started/how-to-install.md#developer-mode-install).\n",
    "\n",
    "We suggest to delve into the code using an appropriate IDE, such as [PyCharm](https://www.jetbrains.com/pycharm/). This will help you navigate the code better and with tons of cool discovery features. Once you have a clear understanding of the entire codebase \\(or at least the module you'd like to extend/customize\\) you can start making changes.\n",
    "\n",
    "If you think your changes may be interesting for the rest of the _Continual Learning_ community, why not contributing back to Avalanche? You can learn how to do it in the next chapter.\n",
    "\n",
    "## 🤝 Run it on Google Colab\n",
    "\n",
    "You can run _this chapter_ and play with it on Google Colaboratory: [![Open In Colab](https://colab.research.google.com/assets/colab-badge.svg)](https://colab.research.google.com/github/ContinualAI/colab/blob/master/notebooks/avalanche/5.-extending-avalanche.ipynb)"
   ],
   "metadata": {
    "collapsed": false
   }
  }
 ],
 "metadata": {},
 "nbformat": 4,
 "nbformat_minor": 2
}