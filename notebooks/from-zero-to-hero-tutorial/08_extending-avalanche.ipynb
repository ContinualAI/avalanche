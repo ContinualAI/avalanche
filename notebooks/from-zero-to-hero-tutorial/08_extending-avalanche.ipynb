{
 "cells": [
  {
   "cell_type": "markdown",
   "metadata": {
    "pycharm": {
     "name": "#%% md\n"
    }
   },
   "source": [
    "---\n",
    "description: 'Make it Custom, Make it Yours'\n",
    "---\n",
    "\n",
    "# Extending Avalanche"
   ]
  },
  {
   "cell_type": "code",
   "execution_count": null,
   "metadata": {
    "pycharm": {
     "name": "#%%\n"
    }
   },
   "outputs": [],
   "source": [
    "!pip install avalanche-lib==0.2.0"
   ]
  },
  {
   "cell_type": "markdown",
   "metadata": {},
   "source": [
    "\n",
    "Having learned how to use all the _Avalanche_ main features, you may end up willing to customize the framework a little to suit your eagerness of continually better functionalities \\(as a true _continual learner_ would indeed do! ⚡\\).\n",
    "\n",
    "Hence, now is the time to get your hands dirty! 🙌\n",
    "\n",
    "Take you time to explore the [Avalanche API](https://avalanche-api.continualai.org) in great detail. We made sure everything is well documented \\(even if improvable\\), but try to take a look at the code as well to resolve any uncertainties \\(of course if you have any question [don't hesitate to ask](https://avalanche.continualai.org/questions-and-issues/add-your-issue)\\)\n",
    "\n",
    "You can start by [cloning the repo and installing Avalanche in \"Developer Mode\"](https://avalanche.continualai.org/getting-started/how-to-install#developer-mode-install).\n",
    "\n",
    "We suggest to delve into the code using an appropriate IDE, such as [PyCharm](https://www.jetbrains.com/pycharm/). This will help you navigate the code better and with tons of cool discovery features. Once you have a clear understanding of the entire codebase \\(or at least the module you'd like to extend/customize\\) you can start making changes.\n",
    "\n",
    "If you think your changes may be interesting for the rest of the _Continual Learning_ community, why not contributing back to Avalanche? You can learn how to do it in the next chapter.\n",
    "\n",
    "## 🤝 Run it on Google Colab\n",
    "\n",
    "You can run _this chapter_ and play with it on Google Colaboratory: [![Open In Colab](https://colab.research.google.com/assets/colab-badge.svg)](https://colab.research.google.com/github/ContinualAI/avalanche/blob/master/notebooks/from-zero-to-hero-tutorial/08_extending-avalanche.ipynb)"
   ]
  }
 ],
 "metadata": {
  "kernelspec": {
   "display_name": "Python 3",
   "language": "python",
   "name": "python3"
  },
  "language_info": {
   "codemirror_mode": {
    "name": "ipython",
    "version": 3
   },
   "file_extension": ".py",
   "mimetype": "text/x-python",
   "name": "python",
   "nbconvert_exporter": "python",
   "pygments_lexer": "ipython3",
   "version": "3.7.9"
  }
 },
 "nbformat": 4,
 "nbformat_minor": 2
}
