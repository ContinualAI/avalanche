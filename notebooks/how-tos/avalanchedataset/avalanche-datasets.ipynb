{
 "cells": [
  { 
   "cell_type": "markdown",
   "id": "6a64c02e",
   "metadata": {
    "pycharm": {
     "name": "#%% md\n"
    }
   },
   "source": [
    "---\n",
    "description: Converting PyTorch Datasets to Avalanche Dataset\n",
    "---\n",
    "\n",
    "# Avalanche Datasets\n",
    "Datasets are a fundamental data structure for continual learning. Unlike offline training, in continual learning we often need to manipulate datasets to create streams, benchmarks, or to manage replay buffers. High-level utilities and predefined benchmarks already take care of the details for you, but you can easily manipulate the data yourself if you need to. These how-to will explain:\n",
    "\n",
    "1. PyTorch datasets and data loading\n",
    "2. How to instantiate Avalanche Datasets\n",
    "3. AvalancheDataset features\n",
    "\n",
    "In Avalanche, the `AvalancheDataset` is everywhere:\n",
    "- The dataset carried by the `experience.dataset` field is always an *AvalancheDataset*.\n",
    "- Many benchmark creation functions accept *AvalancheDataset*s to create benchmarks.\n",
    "- Avalanche benchmarks are created by manipulating *AvalancheDataset*s.\n",
    "- Replay buffers also use `AvalancheDataset` to easily concanate data and handle transformations.\n",
    "\n",
    "\n",
    "## 📚 PyTorch Dataset: general definition\n",
    "\n",
    "In PyTorch, **a `Dataset` is a class** exposing two methods:\n",
    "- `__len__()`, which returns the amount of instances in the dataset (as an `int`). \n",
    "- `__getitem__(idx)`, which returns the data point at index `idx`.\n",
    "\n",
    "In other words, a Dataset instance is just an object for which, similarly to a list, one can simply:\n",
    "- Obtain its length using the Python `len(dataset)` function.\n",
    "- Obtain a single data point using the `x, y = dataset[idx]` syntax.\n",
    "\n",
    "The content of the dataset can be either loaded in memory when the dataset is instantiated (like the torchvision MNIST dataset does) or, for big datasets like ImageNet, the content is kept on disk, with the dataset keeping the list of files in an internal field. In this case, data is loaded from the storage on-the-fly when `__getitem__(idx)` is called. The way those things are managed is specific to each dataset implementation.\n",
    "\n",
    "### Quick note on the IterableDataset class\n",
    "A variation of the standard `Dataset` exist in PyTorch: the [IterableDataset](https://pytorch.org/docs/stable/data.html#iterable-style-datasets). When using an `IterableDataset`, one can load the data points in a sequential way only (by using a tape-alike approach). The `dataset[idx]` syntax and `len(dataset)` function are not allowed. **Avalanche does NOT support `IterableDataset`s.** You shouldn't worry about this because, realistically, you will never encounter such datasets (at least in torchvision). If you need `IterableDataset` let us know and we will consider adding support for them.\n",
    "\n",
    "\n",
    "## How to Create an AvalancheDataset\n",
    "To create an `AvalancheDataset` from a PyTorch you only need to pass the original data to the constructor as follows"
   ]
  },
  {
   "cell_type": "code",
   "execution_count": null,
   "id": "6366814d",
   "metadata": {},
   "outputs": [],
   "source": [
    "!pip install avalanche-lib"
   ]
  },
  {
   "cell_type": "code",
   "execution_count": 1,
   "id": "f9db09c1",
   "metadata": {},
   "outputs": [],
   "source": [
    "import torch\n",
    "from torch.utils.data.dataset import TensorDataset\n",
    "from avalanche.benchmarks.utils import AvalancheDataset\n",
    "\n",
    "# Create a dataset of 100 data points described by 22 features + 1 class label\n",
    "x_data = torch.rand(100, 22)\n",
    "y_data = torch.randint(0, 5, (100,))\n",
    "\n",
    "# Create the Dataset\n",
    "torch_data = TensorDataset(x_data, y_data)\n",
    "\n",
    "avl_data = AvalancheDataset(torch_data)"
   ]
  },
  {
   "cell_type": "markdown",
   "id": "711729f8",
   "metadata": {},
   "source": [
    "The dataset is equivalent to the original one:"
   ]
  },
  {
   "cell_type": "code",
   "execution_count": 2,
   "id": "f1c5bbfd",
   "metadata": {},
   "outputs": [
    {
     "name": "stdout",
     "output_type": "stream",
     "text": [
      "(tensor([0.5443, 0.9641, 0.5070, 0.2279, 0.8210, 0.3967, 0.3965, 0.9138, 0.8702,\n",
      "        0.0943, 0.5116, 0.0769, 0.7349, 0.6697, 0.7386, 0.8781, 0.0927, 0.8396,\n",
      "        0.9837, 0.6130, 0.3590, 0.4633]), tensor(3))\n",
      "(tensor([0.5443, 0.9641, 0.5070, 0.2279, 0.8210, 0.3967, 0.3965, 0.9138, 0.8702,\n",
      "        0.0943, 0.5116, 0.0769, 0.7349, 0.6697, 0.7386, 0.8781, 0.0927, 0.8396,\n",
      "        0.9837, 0.6130, 0.3590, 0.4633]), tensor(3))\n"
     ]
    }
   ],
   "source": [
    "print(torch_data[0])\n",
    "print(avl_data[0])"
   ]
  },
  {
   "cell_type": "markdown",
   "id": "5b94f16c",
   "metadata": {},
   "source": [
    "### Classification Datasets"
   ]
  },
  {
   "cell_type": "markdown",
   "id": "e4ac7194",
   "metadata": {},
   "source": [
    "most of the time, you can also use one of the utility function in [benchmark utils](https://avalanche-api.continualai.org/en/latest/benchmarks.html#utils-data-loading-and-avalanchedataset) that also add attributes such as class and task labels to the dataset. For example, you can create a classification dataset using `make_classification_dataset`.\n",
    "\n",
    "Classification dataset\n",
    "- returns triplets of the form <x, y, t>, where t is the task label (which defaults to 0).\n",
    "- The wrapped dataset must contain a valid **targets** field.\n",
    "\n",
    "Avalanche provides some utility functions to create supervised classification datasets such as:\n",
    "- `make_tensor_classification_dataset` for tensor datasets\n",
    "all of these will automatically create the `targets` and `targets_task_labels` attributes."
   ]
  },
  {
   "cell_type": "code",
   "execution_count": 3,
   "id": "afeb19ca",
   "metadata": {},
   "outputs": [],
   "source": [
    "from avalanche.benchmarks.utils import make_classification_dataset\n",
    "\n",
    "# first, we add targets to the dataset. This will be used by the AvalancheDataset\n",
    "# If possible, avalanche tries to extract the targets from the dataset.\n",
    "# most datasets in torchvision already have a targets field so you don't need this step.\n",
    "torch_data.targets = torch.randint(0, 5, (100,)).tolist()\n",
    "tls = [0 for _ in range(100)] # one task label for each sample\n",
    "sup_data = make_classification_dataset(torch_data, task_labels=tls)"
   ]
  },
  {
   "cell_type": "markdown",
   "id": "c147d620",
   "metadata": {},
   "source": [
    "## DataLoader\n",
    "Avalanche provides some [custom dataloaders](https://avalanche-api.continualai.org/en/latest/benchmarks.html#utils-data-loading-and-avalanchedataset) to sample in a task-balanced way or to balance the replay buffer and current data, but you can also use the standard pytorch `DataLoader`."
   ]
  },
  {
   "cell_type": "code",
   "execution_count": 4,
   "id": "6f6b78f4",
   "metadata": {},
   "outputs": [
    {
     "name": "stdout",
     "output_type": "stream",
     "text": [
      "Loaded minibatch of 10 instances\n",
      "Loaded minibatch of 10 instances\n",
      "Loaded minibatch of 10 instances\n",
      "Loaded minibatch of 10 instances\n",
      "Loaded minibatch of 10 instances\n",
      "Loaded minibatch of 10 instances\n",
      "Loaded minibatch of 10 instances\n",
      "Loaded minibatch of 10 instances\n",
      "Loaded minibatch of 10 instances\n",
      "Loaded minibatch of 10 instances\n"
     ]
    }
   ],
   "source": [
    "from torch.utils.data.dataloader import DataLoader\n",
    "\n",
    "my_dataloader = DataLoader(avl_data, batch_size=10, shuffle=True)\n",
    "\n",
    "# Run one epoch\n",
    "for x_minibatch, y_minibatch in my_dataloader:\n",
    "    print('Loaded minibatch of', len(x_minibatch), 'instances')\n",
    "# Output: \"Loaded minibatch of 10 instances\" x10 times"
   ]
  },
  {
   "cell_type": "markdown",
   "id": "552ce8bf",
   "metadata": {},
   "source": [
    "## Dataset Operations: Concatenation and SubSampling\n",
    "While PyTorch provides two different classes for concatenation and subsampling (`ConcatDataset` and `Subset`), Avalanche implements them as dataset methods. These operations return a new dataset, leaving the original one unchanged."
   ]
  },
  {
   "cell_type": "code",
   "execution_count": 5,
   "id": "56b31935",
   "metadata": {},
   "outputs": [
    {
     "name": "stdout",
     "output_type": "stream",
     "text": [
      "200\n",
      "100\n",
      "50\n",
      "100\n"
     ]
    }
   ],
   "source": [
    "cat_data = avl_data.concat(avl_data)\n",
    "print(len(cat_data))  # 100 + 100 = 200\n",
    "print(len(avl_data))  # 100, original data stays the same\n",
    "\n",
    "sub_data = avl_data.subset(list(range(50)))\n",
    "print(len(sub_data))  # 50\n",
    "print(len(avl_data))  # 100, original data stays the same"
   ]
  },
  {
   "cell_type": "markdown",
   "id": "d54a758d",
   "metadata": {},
   "source": [
    "## Dataset Attributes\n",
    "AvalancheDataset allows to add attributes to datasets. Attributes are named arrays that carry some information that is propagated by concatenation and subsampling operations.\n",
    "For example, classification datasets use this functionality to manage class and task labels."
   ]
  },
  {
   "cell_type": "code",
   "execution_count": 6,
   "id": "c03a321e",
   "metadata": {},
   "outputs": [
    {
     "name": "stdout",
     "output_type": "stream",
     "text": [
      "targets 100\n",
      "targets_task_labels 100\n",
      "targets 10\n",
      "targets_task_labels 10\n",
      "targets 200\n",
      "targets_task_labels 200\n"
     ]
    }
   ],
   "source": [
    "tls = [0 for _ in range(100)] # one task label for each sample\n",
    "sup_data = make_classification_dataset(torch_data, task_labels=tls)\n",
    "print(sup_data.targets.name, len(sup_data.targets._data))\n",
    "print(sup_data.targets_task_labels.name, len(sup_data.targets_task_labels._data))\n",
    "\n",
    "# after subsampling\n",
    "sub_data = sup_data.subset(range(10))\n",
    "print(sub_data.targets.name, len(sub_data.targets._data))\n",
    "print(sub_data.targets_task_labels.name, len(sub_data.targets_task_labels._data))\n",
    "\n",
    "# after concat\n",
    "cat_data = sup_data.concat(sup_data)\n",
    "print(cat_data.targets.name, len(cat_data.targets._data))\n",
    "print(cat_data.targets_task_labels.name, len(cat_data.targets_task_labels._data))"
   ]
  },
  {
   "cell_type": "markdown",
   "id": "5138822c",
   "metadata": {},
   "source": [
    "Thanks to `DataAttribute`s, you can freely operate on your data (e.g. to manage a replay buffer) without losing class or task labels. This makes it easy to manage multi-task datasets or to balance datasets by class."
   ]
  },
  {
   "cell_type": "markdown",
   "id": "e15b060b",
   "metadata": {},
   "source": [
    "## Transformations\n",
    "Most datasets from the *torchvision* libraries (as well as datasets found \"in the wild\") allow for a `transformation` function to be passed to the dataset constructor. The support for transformations is not mandatory for a dataset, but it is quite common to support them. The transformation is used to process the X value of a data point before returning it. This is used to normalize values, apply augmentations, etcetera.\n",
    "\n",
    "`AvalancheDataset` implements a very rich and powerful set of functionalities for managing transformation. You can learn more about it in the [Advanced Transformations How-To](https://avalanche.continualai.org/how-tos/avalanchedataset/advanced-transformations)."
   ]
  },
  {
   "cell_type": "markdown",
   "id": "ad256162",
   "metadata": {},
   "source": [
    "## Next steps\n",
    "With these notions in mind, you can start start your journey on understanding the functionalities offered by the AvalancheDatasets by going through the *Mini How-To*s.\n",
    "\n",
    "Please refer to the [list of the *Mini How-To*s regarding AvalancheDatasets](https://avalanche.continualai.org/how-tos/avalanchedataset) for a complete list. It is recommended to start with the **\"Creating AvalancheDatasets\"** *Mini How-To*."
   ]
  },
  {
   "cell_type": "markdown",
   "id": "b28db60e",
   "metadata": {},
   "source": [
    "## 🤝 Run it on Google Colab\n",
    "\n",
    "You can run _this chapter_ and play with it on Google Colaboratory by clicking here: [![Open In Colab](https://colab.research.google.com/assets/colab-badge.svg)](https://colab.research.google.com/github/ContinualAI/avalanche/blob/master/notebooks/how-tos/avalanchedataset/preamble-pytorch-datasets.ipynb)"
   ]
  }
 ],
 "metadata": {
  "kernelspec": {
   "display_name": "Python (avalanche-env)",
   "language": "python",
   "name": "avalanche-env"
  },
  "language_info": {
   "codemirror_mode": {
    "name": "ipython",
    "version": 3
   },
   "file_extension": ".py",
   "mimetype": "text/x-python",
   "name": "python",
   "nbconvert_exporter": "python",
   "pygments_lexer": "ipython3",
   "version": "3.9.7"
  }
 },
 "nbformat": 4,
 "nbformat_minor": 5
}
